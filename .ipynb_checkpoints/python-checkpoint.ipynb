{
 "cells": [
  {
   "cell_type": "code",
   "execution_count": 12,
   "metadata": {},
   "outputs": [
    {
     "name": "stdout",
     "output_type": "stream",
     "text": [
      "Entrer le poids :5\n",
      "Entrer la taille :1.1\n",
      "poids insuffisant\n"
     ]
    },
    {
     "data": {
      "text/plain": [
       "4.132231404958677"
      ]
     },
     "execution_count": 12,
     "metadata": {},
     "output_type": "execute_result"
    }
   ],
   "source": [
    "\n",
    "poids = int(input(\"Entrer le poids :\"))\n",
    "taille = float(input(\"Entrer la taille :\"))\n",
    "\n",
    "def imc(poids , taille):\n",
    "    imc = poids/taille**2\n",
    "    \n",
    "    if imc<= 18.5:\n",
    "        print(\"poids insuffisant\")\n",
    "    elif 18.5<imc<25:\n",
    "        print(\"Corpulence normale\")\n",
    "    elif 25<imc<30:\n",
    "        print(\"Surpoids\")\n",
    "    elif 30<imc<35:\n",
    "        print(\"Obésité moderée\")\n",
    "    elif 35<imc<40:\n",
    "        print(\"Obésité sevère\")\n",
    "    elif imc>=40:\n",
    "        print(\"Obésité morbide\")\n",
    "    \n",
    "    return imc\n",
    "\n",
    "    \n",
    "imc(poids, taille)"
   ]
  },
  {
   "cell_type": "code",
   "execution_count": 23,
   "metadata": {},
   "outputs": [
    {
     "name": "stdout",
     "output_type": "stream",
     "text": [
      "Entrer un le nombre : 2\n",
      "Entrer une note : 6\n",
      "note : [6]\n",
      "None\n",
      "Affiche les notes de manière decroissante : [6]\n",
      "Entrer une note : 5\n",
      "note : [6, 5]\n",
      "None\n",
      "Affiche les notes de manière decroissante : [6, 5]\n",
      "la moyenne est :  5.5\n"
     ]
    },
    {
     "data": {
      "text/plain": [
       "5.5"
      ]
     },
     "execution_count": 23,
     "metadata": {},
     "output_type": "execute_result"
    }
   ],
   "source": [
    "\n",
    "nombreNote = int(input(\"Entrer un le nombre : \"))\n",
    "i = 0\n",
    "liste = []\n",
    "\n",
    "def afficheLesNote(nombreNote,i,liste):\n",
    "    \n",
    "    while i < nombreNote:\n",
    "        Note =int(input(\"Entrer une note : \"))\n",
    "        liste.append(Note)\n",
    "        print(\"note :\",liste)\n",
    "        i+=1\n",
    "        print(tab.sort(reverse = True))\n",
    "        print(\"Affiche les notes de manière decroissante :\",liste )\n",
    "    return afficheLesNote\n",
    "afficheLesNote(nombreNote,i,liste)\n",
    "    \n",
    "def moyenne():\n",
    "    calcul = sum(liste)\n",
    "    moyenne = calcul/len(liste)\n",
    "    print(\"la moyenne est : \",moyenne)\n",
    "    return moyenne\n",
    "    \n",
    "moyenne()"
   ]
  },
  {
   "cell_type": "code",
   "execution_count": 25,
   "metadata": {},
   "outputs": [
    {
     "name": "stdout",
     "output_type": "stream",
     "text": [
      "0\n",
      "1\n",
      "2\n",
      "3\n",
      "4\n"
     ]
    }
   ],
   "source": [
    "liste = [15,8,9,14,23,6,12]\n",
    "\n",
    "for valeur in range(5):\n",
    "    print(valeur)"
   ]
  },
  {
   "cell_type": "code",
   "execution_count": 8,
   "metadata": {},
   "outputs": [
    {
     "data": {
      "text/plain": [
       "24"
      ]
     },
     "execution_count": 8,
     "metadata": {},
     "output_type": "execute_result"
    }
   ],
   "source": [
    "def produit(liste):\n",
    "    a=1\n",
    "    for i in liste:\n",
    "        a = a*i\n",
    "    return a\n",
    "\n",
    "liste = [4,2,3]\n",
    "produit(liste)\n",
    "        "
   ]
  },
  {
   "cell_type": "code",
   "execution_count": 18,
   "metadata": {},
   "outputs": [
    {
     "name": "stdout",
     "output_type": "stream",
     "text": [
      "Entrer un nombre : 3\n",
      "factorielle de  3 !  est  6\n"
     ]
    }
   ],
   "source": [
    "n = int(input(\"Entrer un nombre : \"))\n",
    "def factoriel(n):\n",
    "    i = 1\n",
    "    \n",
    "    if n>=0 :\n",
    "        for pc in range(0,n):\n",
    "            i = i*(pc+1)\n",
    "        print(\"factorielle de \",n,\"! \",\"est \",i)\n",
    "           \n",
    "    else:\n",
    "        while n < 0:\n",
    "            n = int(input(\"Entrer un nombre : \"))\n",
    "        if n>=0:\n",
    "            for pc in range(0,n):\n",
    "                i = i*(pc+1)\n",
    "            print(\"factorielle de \",n,\"! \",\"est \",i)\n",
    "                \n",
    "factoriel(n)"
   ]
  },
  {
   "cell_type": "code",
   "execution_count": 35,
   "metadata": {},
   "outputs": [
    {
     "name": "stdout",
     "output_type": "stream",
     "text": [
      "Entrer un nobre : -5\n",
      "la liste des nombres impair dans  -5 est []\n"
     ]
    },
    {
     "data": {
      "text/plain": [
       "<function __main__.nb_impair(N)>"
      ]
     },
     "execution_count": 35,
     "metadata": {},
     "output_type": "execute_result"
    }
   ],
   "source": [
    "N =int(input(\"Entrer un nobre : \"))\n",
    "def nb_impair(N):\n",
    "    i = 0\n",
    "    liste = []\n",
    "    while i < N:\n",
    "        i+=1\n",
    "        if(i%2 != 0):\n",
    "            liste.append(i)\n",
    "    print(\"la liste des nombres impair dans \",N, \"est\",liste)\n",
    "    return nb_impair\n",
    "\n",
    "nb_impair(N)"
   ]
  },
  {
   "cell_type": "code",
   "execution_count": 19,
   "metadata": {
    "scrolled": true
   },
   "outputs": [
    {
     "name": "stdout",
     "output_type": "stream",
     "text": [
      "Entrer un nombre : -5\n",
      "[]\n"
     ]
    }
   ],
   "source": [
    "N=int(input(\"Entrer un nombre : \"))\n",
    "def nombre_impair(N):\n",
    "    liste = []\n",
    "    \n",
    "    for a in range(N):\n",
    "        a+=1\n",
    "        if(a%2 !=0):\n",
    "            liste.append(a)\n",
    "    print(liste)\n",
    "                  \n",
    "nombre_impair(N)\n",
    "\n",
    "\n",
    "    "
   ]
  },
  {
   "cell_type": "code",
   "execution_count": 5,
   "metadata": {},
   "outputs": [
    {
     "name": "stdout",
     "output_type": "stream",
     "text": [
      "le tri est :  [10, 17, 25, 38, 72]\n",
      "la liste avec l'element 12 est :  [10, 17, 25, 38, 72, 12]\n",
      "la liste inversée est :  [72, 38, 25, 17, 12, 10]\n",
      "le nombre l'element de la liste est :  6\n",
      "Après avoir supprimer l'element 38 la liste est :  [72, 25, 17, 12, 10]\n",
      "le 2 et 3e element sont :  [25, 17]\n",
      "le debut au 2e element sont :  [72, 25]\n",
      "le 3e à la fin est :  [17, 12, 10]\n"
     ]
    }
   ],
   "source": [
    "liste = [17,38,10,25,72]\n",
    "liste.sort()\n",
    "print(\"le tri est : \",liste)\n",
    "\n",
    "liste.append(12)\n",
    "print(\"la liste avec l'element 12 est : \",liste)\n",
    "\n",
    "liste.sort(reverse=True)\n",
    "print(\"la liste inversée est : \",liste)\n",
    "\n",
    "print(\"le nombre l'element de la liste est : \",len(liste))\n",
    "\n",
    "del liste[1]\n",
    "print(\"Après avoir supprimer l'element 38 la liste est : \",liste)\n",
    "\n",
    "print(\"le 2 et 3e element sont : \", liste[1:3])\n",
    "\n",
    "print(\"le debut au 2e element sont : \", liste[0:2])\n",
    "\n",
    "print(\"le 3e à la fin est : \",liste[2:5])\n",
    "\n",
    "\n"
   ]
  },
  {
   "cell_type": "code",
   "execution_count": 6,
   "metadata": {},
   "outputs": [
    {
     "name": "stdout",
     "output_type": "stream",
     "text": [
      "Entrer le nombre de nombre que vous voulez : 4\n",
      "Entrer un nombre : 4\n",
      "Entrer un nombre : 4\n",
      "Entrer un nombre : 6\n",
      "Entrer un nombre : 6\n",
      "la liste initiale est :  [4, 4, 6, 6]\n",
      "la liste finale est :  [4, 6]\n"
     ]
    }
   ],
   "source": [
    "a = int(input(\"Entrer le nombre de nombre que vous voulez : \"))\n",
    "def Doublons(a):\n",
    "    n = 0\n",
    "    liste = []\n",
    "    while n < a:\n",
    "        b = int(input(\"Entrer un nombre : \"))\n",
    "        liste.append(b)\n",
    "        n+=1\n",
    "    print(\"la liste initiale est : \",liste)\n",
    "    doublons = list(set(liste))\n",
    "    print(\"la liste finale est : \",doublons)\n",
    "    \n",
    "Doublons(a)\n",
    "    "
   ]
  },
  {
   "cell_type": "code",
   "execution_count": 7,
   "metadata": {},
   "outputs": [
    {
     "name": "stdout",
     "output_type": "stream",
     "text": [
      "Le nombre d'élement du tableau est : 5\n",
      "le type du tableau est : <class 'array.array'>\n"
     ]
    }
   ],
   "source": [
    "\"\"\"2- On créer un tableau 1 3 5 7 9 \n",
    "* On affiche le nombre d'élément du tableau \n",
    "* On affiche le type des éléments contenu dans le tableau \n",
    "* On affiche le type du tableau\n",
    "* On affiche le nombre de dimension du tableau\n",
    "* On modifie le tableau qu'on vient de créer (remplacer 1 par 0, 9 par 6 )\n",
    "* tous les éléments du tableau qui est inférieur à 5 on met à moins -1\n",
    "* Affiche la moyenne des éléments du tableau\n",
    "* La somme des éléments du tableau \n",
    "* Créer un tableau de 9 éléments remplient de 0\n",
    "* Créer un tableau de 9 éléments remplient de 5,5\n",
    "* Créer un tableau de 9 éléments remplient de 1\n",
    "NB: On créer un tableau à une dimension et deux dimensions\"\"\"\n",
    "import array as arr\n",
    "\n",
    "tab = arr.array(\"i\",[1,3,5,7,9])\n",
    "\n",
    "print(\"Le nombre d'élement du tableau est :\", len(tab))\n",
    "\n",
    "print(\"le type du tableau est :\",type(tab))\n",
    "print(tab.shape)\n",
    "\n"
   ]
  }
 ],
 "metadata": {
  "kernelspec": {
   "display_name": "Python 3",
   "language": "python",
   "name": "python3"
  },
  "language_info": {
   "codemirror_mode": {
    "name": "ipython",
    "version": 3
   },
   "file_extension": ".py",
   "mimetype": "text/x-python",
   "name": "python",
   "nbconvert_exporter": "python",
   "pygments_lexer": "ipython3",
   "version": "3.7.6"
  }
 },
 "nbformat": 4,
 "nbformat_minor": 4
}
