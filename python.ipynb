{
 "cells": [
  {
   "cell_type": "code",
   "execution_count": null,
   "metadata": {},
   "outputs": [],
   "source": [
    "\n",
    "poids = int(input(\"Entrer le poids :\"))\n",
    "taille = float(input(\"Entrer la taille :\"))\n",
    "\n",
    "def imc(poids , taille):\n",
    "    imc = poids/taille**2\n",
    "    \n",
    "    if imc<= 18.5:\n",
    "        print(\"poids insuffisant\")\n",
    "    elif 18.5<imc<25:\n",
    "        print(\"Corpulence normale\")\n",
    "    elif 25<imc<30:\n",
    "        print(\"Surpoids\")\n",
    "    elif 30<imc<35:\n",
    "        print(\"Obésité moderée\")\n",
    "    elif 35<imc<40:\n",
    "        print(\"Obésité sevère\")\n",
    "    elif imc>=40:\n",
    "        print(\"Obésité morbide\")\n",
    "    \n",
    "    return imc\n",
    "\n",
    "    \n",
    "imc(poids, taille)"
   ]
  },
  {
   "cell_type": "code",
   "execution_count": null,
   "metadata": {},
   "outputs": [],
   "source": [
    "\n",
    "nombreNote = int(input(\"Entrer un le nombre : \"))\n",
    "i = 0\n",
    "liste = []\n",
    "\n",
    "def afficheLesNote(nombreNote,i,liste):\n",
    "    \n",
    "    while i < nombreNote:\n",
    "        Note =int(input(\"Entrer une note : \"))\n",
    "        liste.append(Note)\n",
    "        print(\"note :\",liste)\n",
    "        i+=1\n",
    "        print(liste.sort(reverse = True))\n",
    "        print(\"Affiche les notes de manière decroissante :\",liste )\n",
    "    return afficheLesNote\n",
    "afficheLesNote(nombreNote,i,liste)\n",
    "    \n",
    "def moyenne():\n",
    "    calcul = sum(liste)\n",
    "    moyenne = calcul/len(liste)\n",
    "    print(\"la moyenne est : \",moyenne)\n",
    "    return moyenne\n",
    "    \n",
    "moyenne()"
   ]
  },
  {
   "cell_type": "code",
   "execution_count": null,
   "metadata": {},
   "outputs": [],
   "source": [
    "liste = [15,8,9,14,23,6,12]\n",
    "\n",
    "for valeur in range(5):\n",
    "    print(valeur)"
   ]
  },
  {
   "cell_type": "code",
   "execution_count": null,
   "metadata": {},
   "outputs": [],
   "source": [
    "def produit(liste):\n",
    "    a=1\n",
    "    for i in liste:\n",
    "        a = a*i\n",
    "    return a\n",
    "\n",
    "liste = [4,2,3]\n",
    "produit(liste)\n",
    "        "
   ]
  },
  {
   "cell_type": "code",
   "execution_count": null,
   "metadata": {},
   "outputs": [],
   "source": [
    "n = int(input(\"Entrer un nombre : \"))\n",
    "def factoriel(n):\n",
    "    i = 1\n",
    "    \n",
    "    if n>=0 :\n",
    "        for pc in range(0,n):\n",
    "            i = i*(pc+1)\n",
    "        print(\"factorielle de \",n,\"! \",\"est \",i)\n",
    "           \n",
    "    else:\n",
    "        while n < 0:\n",
    "            n = int(input(\"Entrer un nombre : \"))\n",
    "        if n>=0:\n",
    "            for pc in range(0,n):\n",
    "                i = i*(pc+1)\n",
    "            print(\"factorielle de \",n,\"! \",\"est \",i)\n",
    "                \n",
    "factoriel(n)"
   ]
  },
  {
   "cell_type": "code",
   "execution_count": 2,
   "metadata": {},
   "outputs": [
    {
     "name": "stdout",
     "output_type": "stream",
     "text": [
      "Entrer un nobre : 156\n",
      "la liste des nombres impair dans  156 est [1, 3, 5, 7, 9, 11, 13, 15, 17, 19, 21, 23, 25, 27, 29, 31, 33, 35, 37, 39, 41, 43, 45, 47, 49, 51, 53, 55, 57, 59, 61, 63, 65, 67, 69, 71, 73, 75, 77, 79, 81, 83, 85, 87, 89, 91, 93, 95, 97, 99, 101, 103, 105, 107, 109, 111, 113, 115, 117, 119, 121, 123, 125, 127, 129, 131, 133, 135, 137, 139, 141, 143, 145, 147, 149, 151, 153, 155]\n"
     ]
    },
    {
     "data": {
      "text/plain": [
       "<function __main__.nb_impair(N)>"
      ]
     },
     "execution_count": 2,
     "metadata": {},
     "output_type": "execute_result"
    }
   ],
   "source": [
    "N =int(input(\"Entrer un nobre : \"))\n",
    "def nb_impair(N):\n",
    "    i = 0\n",
    "    liste = []\n",
    "    while i < N:\n",
    "        i+=1\n",
    "        if(i%2 != 0):\n",
    "            liste.append(i)\n",
    "    print(\"la liste des nombres impair dans \",N, \"est\",liste)\n",
    "    return nb_impair\n",
    "\n",
    "nb_impair(N)"
   ]
  },
  {
   "cell_type": "code",
   "execution_count": 3,
   "metadata": {
    "scrolled": true
   },
   "outputs": [
    {
     "name": "stdout",
     "output_type": "stream",
     "text": [
      "Entrer un nombre : 256\n",
      "[1, 3, 5, 7, 9, 11, 13, 15, 17, 19, 21, 23, 25, 27, 29, 31, 33, 35, 37, 39, 41, 43, 45, 47, 49, 51, 53, 55, 57, 59, 61, 63, 65, 67, 69, 71, 73, 75, 77, 79, 81, 83, 85, 87, 89, 91, 93, 95, 97, 99, 101, 103, 105, 107, 109, 111, 113, 115, 117, 119, 121, 123, 125, 127, 129, 131, 133, 135, 137, 139, 141, 143, 145, 147, 149, 151, 153, 155, 157, 159, 161, 163, 165, 167, 169, 171, 173, 175, 177, 179, 181, 183, 185, 187, 189, 191, 193, 195, 197, 199, 201, 203, 205, 207, 209, 211, 213, 215, 217, 219, 221, 223, 225, 227, 229, 231, 233, 235, 237, 239, 241, 243, 245, 247, 249, 251, 253, 255]\n"
     ]
    }
   ],
   "source": [
    "N=int(input(\"Entrer un nombre : \"))\n",
    "def nombre_impair(N):\n",
    "    liste = []\n",
    "    \n",
    "    for a in range(N):\n",
    "        a+=1\n",
    "        if(a%2 !=0):\n",
    "            liste.append(a)\n",
    "    print(liste)\n",
    "                  \n",
    "nombre_impair(N)\n",
    "\n",
    "\n",
    "    "
   ]
  },
  {
   "cell_type": "code",
   "execution_count": null,
   "metadata": {},
   "outputs": [],
   "source": [
    "liste = [17,38,10,25,72]\n",
    "liste.sort()\n",
    "print(\"le tri est : \",liste)\n",
    "\n",
    "liste.append(12)\n",
    "print(\"la liste avec l'element 12 est : \",liste)\n",
    "\n",
    "liste.sort(reverse=True)\n",
    "print(\"la liste inversée est : \",liste)\n",
    "\n",
    "print(\"le nombre l'element de la liste est : \",len(liste))\n",
    "\n",
    "del liste[1]\n",
    "print(\"Après avoir supprimer l'element 38 la liste est : \",liste)\n",
    "\n",
    "print(\"le 2 et 3e element sont : \", liste[1:3])\n",
    "\n",
    "print(\"le debut au 2e element sont : \", liste[0:2])\n",
    "\n",
    "print(\"le 3e à la fin est : \",liste[2:5])\n",
    "\n",
    "\n"
   ]
  },
  {
   "cell_type": "code",
   "execution_count": null,
   "metadata": {},
   "outputs": [],
   "source": [
    "a = int(input(\"Entrer le nombre de nombre que vous voulez : \"))\n",
    "def Doublons(a):\n",
    "    n = 0\n",
    "    liste = []\n",
    "    while n < a:\n",
    "        b = int(input(\"Entrer un nombre : \"))\n",
    "        liste.append(b)\n",
    "        n+=1\n",
    "    print(\"la liste initiale est : \",liste)\n",
    "    doublons = list(set(liste))\n",
    "    print(\"la liste finale est : \",doublons)\n",
    "    \n",
    "Doublons(a)\n",
    "    "
   ]
  },
  {
   "cell_type": "code",
   "execution_count": 54,
   "metadata": {},
   "outputs": [],
   "source": [
    "\"\"\"2- On créer un tableau 1 3 5 7 9 \n",
    "* On affiche le nombre d'élément du tableau \n",
    "* On affiche le type des éléments contenu dans le tableau \n",
    "* On affiche le type du tableau\n",
    "* On affiche le nombre de dimension du tableau\n",
    "* On modifie le tableau qu'on vient de créer (remplacer 1 par 0, 9 par 6 )\n",
    "* tous les éléments du tableau qui est inférieur à 5 on met à moins -1\n",
    "* Affiche la moyenne des éléments du tableau\n",
    "* La somme des éléments du tableau \n",
    "* Créer un tableau de 9 éléments remplient de 0\n",
    "* Créer un tableau de 9 éléments remplient de 5,5\n",
    "* Créer un tableau de 9 éléments remplient de 1\n",
    "NB: On créer un tableau à une dimension et deux dimensions\"\"\"\n",
    "\n",
    "import numpy as n\n",
    "# On créer un tableau 1 3 5 7 9\n",
    "tab_nb = n.array([1,3,5,7,9])\n"
   ]
  },
  {
   "cell_type": "code",
   "execution_count": 55,
   "metadata": {},
   "outputs": [
    {
     "name": "stdout",
     "output_type": "stream",
     "text": [
      "le nombre d'élement du tableau est :  5\n"
     ]
    }
   ],
   "source": [
    "\n",
    "# On affiche le nombre d'élément du tableau\n",
    "ele_tab= n.size(tab_nb) \n",
    "print(\"le nombre d'élement du tableau est : \",ele_tab)"
   ]
  },
  {
   "cell_type": "code",
   "execution_count": 57,
   "metadata": {},
   "outputs": [
    {
     "data": {
      "text/plain": [
       "dtype('int32')"
      ]
     },
     "execution_count": 57,
     "metadata": {},
     "output_type": "execute_result"
    }
   ],
   "source": [
    "#On affiche le type des éléments contenu dans le tableau\n",
    "tab_nb.dtype"
   ]
  },
  {
   "cell_type": "code",
   "execution_count": 58,
   "metadata": {},
   "outputs": [
    {
     "data": {
      "text/plain": [
       "numpy.ndarray"
      ]
     },
     "execution_count": 58,
     "metadata": {},
     "output_type": "execute_result"
    }
   ],
   "source": [
    "#On affiche le type du tableau\n",
    "type(tab_nb)"
   ]
  },
  {
   "cell_type": "code",
   "execution_count": 59,
   "metadata": {},
   "outputs": [
    {
     "data": {
      "text/plain": [
       "1"
      ]
     },
     "execution_count": 59,
     "metadata": {},
     "output_type": "execute_result"
    }
   ],
   "source": [
    "#On affiche le nombre de dimension du tableau\n",
    "tab_nb.ndim"
   ]
  },
  {
   "cell_type": "code",
   "execution_count": 60,
   "metadata": {},
   "outputs": [
    {
     "data": {
      "text/plain": [
       "array([0, 3, 5, 7, 6])"
      ]
     },
     "execution_count": 60,
     "metadata": {},
     "output_type": "execute_result"
    }
   ],
   "source": [
    "#On modifie le tableau qu'on vient de créer (remplacer 1 par 0, 9 par 6 )\n",
    "tab_nb[tab_nb==1]=0\n",
    "tab_nb[tab_nb==9]=6\n",
    "tab_nb"
   ]
  },
  {
   "cell_type": "code",
   "execution_count": 61,
   "metadata": {},
   "outputs": [
    {
     "data": {
      "text/plain": [
       "array([-1, -1,  5,  7,  6])"
      ]
     },
     "execution_count": 61,
     "metadata": {},
     "output_type": "execute_result"
    }
   ],
   "source": [
    "#tous les éléments du tableau qui est inférieur à 5 on met à moins -1\n",
    "tab_nb[tab_nb < 5] =-1\n",
    "tab_nb"
   ]
  },
  {
   "cell_type": "code",
   "execution_count": 64,
   "metadata": {},
   "outputs": [
    {
     "data": {
      "text/plain": [
       "3.2"
      ]
     },
     "execution_count": 64,
     "metadata": {},
     "output_type": "execute_result"
    }
   ],
   "source": [
    "#Affiche la moyenne des éléments du tableau\n",
    "moyenne = n.mean(tab_nb)\n",
    "moyenne"
   ]
  },
  {
   "cell_type": "code",
   "execution_count": 65,
   "metadata": {},
   "outputs": [
    {
     "data": {
      "text/plain": [
       "16"
      ]
     },
     "execution_count": 65,
     "metadata": {},
     "output_type": "execute_result"
    }
   ],
   "source": [
    "#La somme des éléments du tableau\n",
    "somme = sum(tab_nb)\n",
    "somme"
   ]
  },
  {
   "cell_type": "code",
   "execution_count": 68,
   "metadata": {},
   "outputs": [
    {
     "data": {
      "text/plain": [
       "array([0, 0, 0, 0, 0, 0, 0, 0, 0])"
      ]
     },
     "execution_count": 68,
     "metadata": {},
     "output_type": "execute_result"
    }
   ],
   "source": [
    "#Créer un tableau de 9 éléments remplient de \n",
    "tab_z= n.zeros(9,dtype =\"int32\")\n",
    "tab_z"
   ]
  },
  {
   "cell_type": "code",
   "execution_count": 70,
   "metadata": {},
   "outputs": [
    {
     "data": {
      "text/plain": [
       "array([[0, 0, 0, 0, 0, 0, 0, 0, 0],\n",
       "       [0, 0, 0, 0, 0, 0, 0, 0, 0]])"
      ]
     },
     "execution_count": 70,
     "metadata": {},
     "output_type": "execute_result"
    }
   ],
   "source": [
    "tab_z = n.zeros((2,9),dtype=\"int32\")\n",
    "tab_z"
   ]
  },
  {
   "cell_type": "code",
   "execution_count": 74,
   "metadata": {},
   "outputs": [
    {
     "data": {
      "text/plain": [
       "array([5.5, 5.5, 5.5, 5.5, 5.5, 5.5, 5.5, 5.5, 5.5])"
      ]
     },
     "execution_count": 74,
     "metadata": {},
     "output_type": "execute_result"
    }
   ],
   "source": [
    "#Créer un tableau de 9 éléments remplient de 5,5\n",
    "tab_cinq = n.full(9,5.5)\n",
    "tab_cinq"
   ]
  },
  {
   "cell_type": "code",
   "execution_count": 79,
   "metadata": {},
   "outputs": [
    {
     "data": {
      "text/plain": [
       "array([[5.5, 5.5, 5.5, 5.5, 5.5, 5.5, 5.5, 5.5, 5.5],\n",
       "       [5.5, 5.5, 5.5, 5.5, 5.5, 5.5, 5.5, 5.5, 5.5]])"
      ]
     },
     "execution_count": 79,
     "metadata": {},
     "output_type": "execute_result"
    }
   ],
   "source": [
    "tab_cinq = n.full((2,9),5.5)\n",
    "tab_cinq"
   ]
  },
  {
   "cell_type": "code",
   "execution_count": 80,
   "metadata": {},
   "outputs": [
    {
     "data": {
      "text/plain": [
       "array([1, 1, 1, 1, 1, 1, 1, 1, 1])"
      ]
     },
     "execution_count": 80,
     "metadata": {},
     "output_type": "execute_result"
    }
   ],
   "source": [
    "#Créer un tableau de 9 éléments remplient de 1\n",
    "tab_un = n.full(9,1)\n",
    "tab_un"
   ]
  },
  {
   "cell_type": "code",
   "execution_count": 81,
   "metadata": {},
   "outputs": [
    {
     "data": {
      "text/plain": [
       "array([[1, 1, 1, 1, 1, 1, 1, 1, 1],\n",
       "       [1, 1, 1, 1, 1, 1, 1, 1, 1]])"
      ]
     },
     "execution_count": 81,
     "metadata": {},
     "output_type": "execute_result"
    }
   ],
   "source": [
    "tab_un = n.full((2,9),1)\n",
    "tab_un"
   ]
  },
  {
   "cell_type": "code",
   "execution_count": 19,
   "metadata": {},
   "outputs": [
    {
     "name": "stdout",
     "output_type": "stream",
     "text": [
      "[ 26  43 112   6  14 168 146]\n"
     ]
    }
   ],
   "source": [
    "import numpy as np\n",
    "import random\n",
    "\n",
    "tab = np.random.randint(0,200,7)\n",
    "print(tab)"
   ]
  },
  {
   "cell_type": "code",
   "execution_count": 20,
   "metadata": {},
   "outputs": [
    {
     "name": "stdout",
     "output_type": "stream",
     "text": [
      "[[1. 1. 1. 1.]\n",
      " [1. 1. 1. 1.]\n",
      " [1. 1. 1. 1.]\n",
      " [1. 1. 1. 1.]]\n"
     ]
    }
   ],
   "source": [
    "mat_Tab = np.ones([4,4],dtype=float)\n",
    "print(mat_Tab)"
   ]
  },
  {
   "cell_type": "code",
   "execution_count": 59,
   "metadata": {},
   "outputs": [
    {
     "data": {
      "text/plain": [
       "array([[1, 1, 1, 1],\n",
       "       [1, 1, 1, 1],\n",
       "       [1, 1, 1, 1],\n",
       "       [1, 1, 1, 1]])"
      ]
     },
     "execution_count": 59,
     "metadata": {},
     "output_type": "execute_result"
    }
   ],
   "source": [
    "mat_Tab = np.ones([4,4],dtype=\"int32\")\n",
    "mat_Tab"
   ]
  },
  {
   "cell_type": "code",
   "execution_count": 4,
   "metadata": {},
   "outputs": [
    {
     "data": {
      "text/plain": [
       "array([[4, 4, 4, 4],\n",
       "       [4, 4, 4, 4],\n",
       "       [4, 4, 4, 4],\n",
       "       [4, 4, 4, 4]])"
      ]
     },
     "execution_count": 4,
     "metadata": {},
     "output_type": "execute_result"
    }
   ],
   "source": [
    "multi = mat_Tab*4\n",
    "multi"
   ]
  },
  {
   "cell_type": "code",
   "execution_count": 5,
   "metadata": {},
   "outputs": [
    {
     "data": {
      "text/plain": [
       "array([[ 8, 16, 24, 32],\n",
       "       [ 8, 16, 24, 32],\n",
       "       [ 8, 16, 24, 32],\n",
       "       [ 8, 16, 24, 32]])"
      ]
     },
     "execution_count": 5,
     "metadata": {},
     "output_type": "execute_result"
    }
   ],
   "source": [
    "matrice = np.dot(multi,np.diag([2,4,6,8]))\n",
    "matrice"
   ]
  },
  {
   "cell_type": "code",
   "execution_count": 9,
   "metadata": {},
   "outputs": [],
   "source": [
    "import numpy as np"
   ]
  },
  {
   "cell_type": "code",
   "execution_count": 82,
   "metadata": {},
   "outputs": [
    {
     "name": "stdout",
     "output_type": "stream",
     "text": [
      "Entrer un nombre : 7\n",
      "Entrer : 8\n",
      "Entrer : 6\n",
      "Entrer : 12\n",
      "Entrer : 36\n",
      "Entrer : 7\n",
      "Entrer : 9\n",
      "Entrer : 2\n"
     ]
    },
    {
     "data": {
      "text/plain": [
       "array([ 8,  6, 12, 36,  7,  9,  2])"
      ]
     },
     "execution_count": 82,
     "metadata": {},
     "output_type": "execute_result"
    }
   ],
   "source": [
    "N = int(input(\"Entrer un nombre : \"))\n",
    "i=0\n",
    "liste = []\n",
    "\n",
    "\n",
    "while i<N:\n",
    "    a = int(input(\"Entrer : \"))\n",
    "    liste.append(a)\n",
    "    tab = np.array(liste,dtype=\"int32\")\n",
    "    i+=1\n",
    "    \n",
    "\n",
    "tab"
   ]
  },
  {
   "cell_type": "code",
   "execution_count": 88,
   "metadata": {},
   "outputs": [
    {
     "name": "stdout",
     "output_type": "stream",
     "text": [
      "Entrer le nombre de nombre que vous voulez rentrer : 5\n",
      "Entrer un nombre :7\n",
      "Entrer un nombre :9\n",
      "Entrer un nombre :2\n",
      "Entrer un nombre :5\n",
      "Entrer un nombre :3\n"
     ]
    },
    {
     "data": {
      "text/plain": [
       "array([7, 9, 2, 5, 3])"
      ]
     },
     "execution_count": 88,
     "metadata": {},
     "output_type": "execute_result"
    }
   ],
   "source": [
    "N = int(input(\"Entrer le nombre de nombre que vous voulez rentrer : \"))\n",
    "liste = []\n",
    "for i in range(N):\n",
    "    a = int(input(\"Entrer un nombre :\"))\n",
    "    liste.append(a)\n",
    "    tab = np.array(liste,dtype=\"int32\")\n",
    "tab\n",
    "    \n"
   ]
  },
  {
   "cell_type": "code",
   "execution_count": null,
   "metadata": {},
   "outputs": [],
   "source": []
  }
 ],
 "metadata": {
  "kernelspec": {
   "display_name": "Python 3",
   "language": "python",
   "name": "python3"
  },
  "language_info": {
   "codemirror_mode": {
    "name": "ipython",
    "version": 3
   },
   "file_extension": ".py",
   "mimetype": "text/x-python",
   "name": "python",
   "nbconvert_exporter": "python",
   "pygments_lexer": "ipython3",
   "version": "3.7.6"
  }
 },
 "nbformat": 4,
 "nbformat_minor": 4
}
