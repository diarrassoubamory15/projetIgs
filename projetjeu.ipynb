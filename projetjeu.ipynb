{
 "cells": [
  {
   "cell_type": "markdown",
   "metadata": {},
   "source": [
    "# Exercice 1"
   ]
  },
  {
   "cell_type": "code",
   "execution_count": 12,
   "metadata": {},
   "outputs": [
    {
     "name": "stdout",
     "output_type": "stream",
     "text": [
      "Trouver le nombre aleatoire pour arrêter le jeu : 75\n",
      "Trop petit !\n",
      "Trouver le nombre aleatoire pour arrêter le jeu :90\n",
      "Trop petit !\n",
      "Trouver le nombre aleatoire pour arrêter le jeu :95\n",
      "Trop grand !\n",
      "Trouver le nombre aleatoire pour arrêter le jeu : 91\n",
      "Trop petit !\n",
      "Trouver le nombre aleatoire pour arrêter le jeu :93\n",
      "Trop grand !\n",
      "Trouver le nombre aleatoire pour arrêter le jeu : 92\n",
      "Exact ! 92\n"
     ]
    }
   ],
   "source": [
    "import random\n",
    "def devinette():\n",
    "    utilisateur = int(input(\"Trouver le nombre aleatoire pour arrêter le jeu : \"))\n",
    "    aleatoire = random.randint(0,100)\n",
    "    while utilisateur != aleatoire:\n",
    "        if utilisateur > aleatoire:\n",
    "            print(\"Trop grand !\")\n",
    "            utilisateur = int(input(\"Trouver le nombre aleatoire pour arrêter le jeu : \"))\n",
    "                   \n",
    "        elif utilisateur < aleatoire:\n",
    "            print(\"Trop petit !\")\n",
    "            utilisateur = int(input(\"Trouver le nombre aleatoire pour arrêter le jeu :\"))\n",
    "        \n",
    "    print(\"Exact !\",aleatoire)\n",
    "          \n",
    "devinette()"
   ]
  },
  {
   "cell_type": "markdown",
   "metadata": {},
   "source": [
    "# Exercice 2"
   ]
  },
  {
   "cell_type": "code",
   "execution_count": 11,
   "metadata": {},
   "outputs": [
    {
     "name": "stdout",
     "output_type": "stream",
     "text": [
      "Trouver le nombre aleatoire pour arrêter le jeu :45\n",
      "trop grand !\n",
      "Trouver le nombre aleatoire pour arrêter le jeu :30\n",
      "trop petit !\n",
      "Trouver le nombre aleatoire pour arrêter le jeu :32\n",
      "Vous avez épuisé vos 3 chances !\n"
     ]
    }
   ],
   "source": [
    "import random\n",
    "def devinette():\n",
    "    nb_aleatoire = random.randint(0,100)\n",
    "    nb_utilisateur = int(input(\"Trouver le nombre aleatoire pour arrêter le jeu :\"))\n",
    "    \n",
    "    for i in range(0,3):\n",
    "        if i !=2:\n",
    "            if nb_utilisateur > nb_aleatoire:\n",
    "                print(\"trop grand !\")\n",
    "                nb_utilisateur = int(input(\"Trouver le nombre aleatoire pour arrêter le jeu :\"))\n",
    "            \n",
    "            elif nb_utilisateur < nb_aleatoire:\n",
    "                print(\"trop petit !\")\n",
    "                nb_utilisateur = int(input(\"Trouver le nombre aleatoire pour arrêter le jeu :\"))\n",
    "    \n",
    "            elif nb_utilisateur == nb_aleatoire:\n",
    "                print(\"Exact !\",nb_aleatoire)\n",
    "        \n",
    "        else:\n",
    "            if nb_utilisateur > nb_aleatoire:\n",
    "                print(\"trop grand !\")\n",
    "            \n",
    "            elif nb_utilisateur < nb_aleatoire:\n",
    "                print(\"trop petit !\")\n",
    "            \n",
    "            elif nb_utilisateur == nb_aleatoire:\n",
    "                print(\"Exact !\",nb_aleatoire)\n",
    "                \n",
    "    print(\"Vous avez épuisé vos 3 chances !\")\n",
    "             \n",
    "        \n",
    "devinette()"
   ]
  },
  {
   "cell_type": "markdown",
   "metadata": {},
   "source": [
    "# Exercice 3"
   ]
  },
  {
   "cell_type": "code",
   "execution_count": null,
   "metadata": {},
   "outputs": [
    {
     "name": "stdout",
     "output_type": "stream",
     "text": [
      "Entrer le nombre des nombres que vous voulez : 2\n",
      "Entrer un nombre : 5\n",
      "Entrer un nombre : 8\n",
      "[5, 8]\n",
      "La somme est :  13\n",
      "Entrer le nombre des nombres que vous voulez : 4\n",
      "Entrer un nombre : 8\n",
      "Entrer un nombre : 6\n",
      "Entrer un nombre : 3\n",
      "Entrer un nombre : 1\n",
      "[8, 6, 3, 1]\n",
      "La somme est :  18\n"
     ]
    }
   ],
   "source": [
    "def somme():\n",
    "    N =int(input(\"Entrer le nombre des nombres que vous voulez : \"))\n",
    "    liste = []\n",
    "    som = 0\n",
    "    for i in range(0,N):\n",
    "        a = int(input(\"Entrer un nombre : \"))\n",
    "        liste.append(a)\n",
    "        som+= liste[i]\n",
    "    print(liste)\n",
    "    print(\"La somme est : \",som)\n",
    "    \n",
    "    while som != 0.00:\n",
    "        somme()\n",
    "\n",
    "somme()"
   ]
  },
  {
   "cell_type": "markdown",
   "metadata": {},
   "source": [
    "# Exercice 4"
   ]
  },
  {
   "cell_type": "code",
   "execution_count": 2,
   "metadata": {},
   "outputs": [
    {
     "name": "stdout",
     "output_type": "stream",
     "text": [
      "Entrer votre nom : Diarra\n",
      "Entrer votre prenoms : Aziz\n",
      "L'email de Diarra Aziz est : aziz_diarra@pythonboss.com\n"
     ]
    }
   ],
   "source": [
    "nom = str(input(\"Entrer votre nom : \"))\n",
    "prenoms = str(input(\"Entrer votre prenoms : \"))\n",
    "nom_minuscule =nom.lower()\n",
    "prenoms_minuscule =prenoms.lower()\n",
    "def email(nom,prenoms):\n",
    "    print(\"L'email de\" ,nom,prenoms, \"est :\",prenoms_minuscule+\"_\"+nom_minuscule+\"@pythonboss.com\")\n",
    "    \n",
    "email(nom,prenoms)"
   ]
  },
  {
   "cell_type": "markdown",
   "metadata": {},
   "source": [
    "# Exercice 5"
   ]
  },
  {
   "cell_type": "code",
   "execution_count": 20,
   "metadata": {},
   "outputs": [
    {
     "name": "stdout",
     "output_type": "stream",
     "text": [
      "Entrer un chaine : diarrassouba\n",
      "La chaine ordonnée est : aaabdiorrssu\n"
     ]
    }
   ],
   "source": [
    "chaine = input(\"Entrer une chaine : \")\n",
    "def ordonne_str(chaine):\n",
    "    ordre = sorted(chaine)\n",
    "    coller_lettre = ''.join(ordre)\n",
    "    print(\"La chaine ordonnée est :\",coller_lettre)\n",
    "    \n",
    "ordonne_str(chaine)"
   ]
  },
  {
   "cell_type": "markdown",
   "metadata": {},
   "source": [
    "# Exercice 6"
   ]
  },
  {
   "cell_type": "code",
   "execution_count": 10,
   "metadata": {},
   "outputs": [
    {
     "name": "stdout",
     "output_type": "stream",
     "text": [
      "Entrer une chaine : diarra mory\n"
     ]
    },
    {
     "data": {
      "text/plain": [
       "'drr mr'"
      ]
     },
     "execution_count": 10,
     "metadata": {},
     "output_type": "execute_result"
    }
   ],
   "source": [
    "chaine = input(\"Entrer une chaine : \")\n",
    "def sans_voyelle(chaine):\n",
    "    voyelle =('a','e','u','o','i','y')\n",
    "    del_voyelle= \"\"\n",
    "    for s in chaine:\n",
    "        if s not in voyelle:\n",
    "            del_voyelle+=s\n",
    "    return del_voyelle\n",
    "\n",
    "sans_voyelle(chaine)"
   ]
  },
  {
   "cell_type": "markdown",
   "metadata": {},
   "source": [
    "# Exercice"
   ]
  }
 ],
 "metadata": {
  "kernelspec": {
   "display_name": "Python 3",
   "language": "python",
   "name": "python3"
  },
  "language_info": {
   "codemirror_mode": {
    "name": "ipython",
    "version": 3
   },
   "file_extension": ".py",
   "mimetype": "text/x-python",
   "name": "python",
   "nbconvert_exporter": "python",
   "pygments_lexer": "ipython3",
   "version": "3.7.6"
  }
 },
 "nbformat": 4,
 "nbformat_minor": 4
}
